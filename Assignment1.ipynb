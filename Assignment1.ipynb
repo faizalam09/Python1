{
  "nbformat": 4,
  "nbformat_minor": 0,
  "metadata": {
    "colab": {
      "provenance": []
    },
    "kernelspec": {
      "name": "python3",
      "display_name": "Python 3"
    },
    "language_info": {
      "name": "python"
    }
  },
  "cells": [
    {
      "cell_type": "markdown",
      "source": [
        "#Basics Questions\n"
      ],
      "metadata": {
        "id": "hH-HESyaYoC8"
      }
    },
    {
      "cell_type": "markdown",
      "source": [
        "Q1. What is Python, and why is it popular?\n",
        "\n",
        "-  Python is a interpreted programming language that is widely used for general purpose programming. It was created by Guido van Rossum in 1991. It is basically used to interect with the computer.\n",
        "\n",
        "It is Popular Because it has Large Community and Libraries it also can be used for a wide variety of tasks, from web development and data analysis to automation, artificial intelligence, scientific computing, and more.\n",
        "\n"
      ],
      "metadata": {
        "id": "A7_NMhq0Wvro"
      }
    },
    {
      "cell_type": "markdown",
      "source": [
        "Q2. What is an interpreter in Python?\n",
        "\n",
        "- An interpreter in Python is a program that reads and executes Python code line-by-line, converting it into machine code that the computer can execute.\n"
      ],
      "metadata": {
        "id": "ZiPXPGLxYwss"
      }
    },
    {
      "cell_type": "markdown",
      "source": [
        "Q3. What are pre-defined keywords in Python?\n",
        "\n",
        "- pre-defined keywords also known as reserved words that are words that have a specific meaning in the language and are part of the syntax. These keywords cannot be used as identifiers (such as variable names, function names, or class names) because they are reserved by the language for special functions."
      ],
      "metadata": {
        "id": "KXyGhOeeZMbk"
      }
    },
    {
      "cell_type": "markdown",
      "source": [
        "Q4. Can keywords be used as variable names?\n",
        "\n",
        "- No, keywords in Python cannot be used as variable names. Keywords are reserved by the Python language for special syntactical purposes, and attempting to use them as variable names will result in a syntax error."
      ],
      "metadata": {
        "id": "tKMxRWnTZ4Ua"
      }
    },
    {
      "cell_type": "markdown",
      "source": [
        "Q5. What is mutability in Python?\n",
        "\n",
        "- Mutability in Python refers to the ability of an object to be changed or modified after it has been created."
      ],
      "metadata": {
        "id": "reHx6vL3al6g"
      }
    },
    {
      "cell_type": "markdown",
      "source": [
        "Q6. What is the difference between “==” and “is” operators in Python?\n",
        "\n",
        "- The == and is operators are both used for comparison, but they serve different purposes and behave in distinct ways.\n",
        "\n",
        "The == operator is used to compare the values of two objects. It checks whether the contents or values of the objects are the same.\n",
        "\n",
        "The is operator checks if two variables refer to the same object in memory. In other words, it checks whether the identities of the two objects are the same, not whether their values are equal."
      ],
      "metadata": {
        "id": "aiB-zDNXbJqH"
      }
    },
    {
      "cell_type": "markdown",
      "source": [
        "Q7. What are logical operators in Python?\n",
        "\n",
        "-  logical operators are used to combine conditional statements and evaluate expressions based on Boolean values (True or False). These operators allow you to perform logical operations, such as checking if multiple conditions are met, and return a single Boolean result."
      ],
      "metadata": {
        "id": "TTlo2uxpchcH"
      }
    },
    {
      "cell_type": "markdown",
      "source": [
        "Q8. What is type casting in Python?\n",
        "\n",
        "- Type casting in Python refers to the process of converting one data type to another."
      ],
      "metadata": {
        "id": "Y-8-9giVdEGj"
      }
    },
    {
      "cell_type": "markdown",
      "source": [
        "Q9. What is the difference between implicit and explicit type casting?\n",
        "\n",
        "-  Implicit type casting is the automatic conversion of one data type to another by Python without the programmer needing to specify the conversion explicitly.\n",
        "\n",
        "- Explicit type casting (also known as type coercion) is when the programmer explicitly converts one data type to another using built-in functions like int(), float(), str(), etc."
      ],
      "metadata": {
        "id": "rPN4-ptVdp4o"
      }
    },
    {
      "cell_type": "markdown",
      "source": [
        "Q10. What is the purpose of conditional statements in Python?\n",
        "\n",
        "-  Conditional statements in Python are used to execute specific blocks of code based on whether certain conditions are True or False. They allow you to control the flow of a program, making it respond differently to different inputs or situations."
      ],
      "metadata": {
        "id": "5X-dVCUqeYkF"
      }
    },
    {
      "cell_type": "markdown",
      "source": [
        "# Practical Questions"
      ],
      "metadata": {
        "id": "bSj5vR8dgW2z"
      }
    },
    {
      "cell_type": "code",
      "source": [
        "print ('Hello world')"
      ],
      "metadata": {
        "colab": {
          "base_uri": "https://localhost:8080/"
        },
        "id": "8faHiSkTgyRf",
        "outputId": "0bff13a6-f4c4-4570-dd71-5603cbcfedcb"
      },
      "execution_count": 74,
      "outputs": [
        {
          "output_type": "stream",
          "name": "stdout",
          "text": [
            "Hello world\n"
          ]
        }
      ]
    },
    {
      "cell_type": "code",
      "source": [
        "print(\"Name:\", 'Faiz Alam')\n",
        "print(\"Age:\", '28')"
      ],
      "metadata": {
        "colab": {
          "base_uri": "https://localhost:8080/"
        },
        "id": "SnwlwdMnh0gC",
        "outputId": "54230178-afc5-42dc-c898-e695fb7ced89"
      },
      "execution_count": 75,
      "outputs": [
        {
          "output_type": "stream",
          "name": "stdout",
          "text": [
            "Name: Faiz Alam\n",
            "Age: 28\n"
          ]
        }
      ]
    },
    {
      "cell_type": "code",
      "source": [
        "print(\"List of Python keywords:\")\n",
        "for kw in keywords:\n",
        "    print(kw)\n"
      ],
      "metadata": {
        "colab": {
          "base_uri": "https://localhost:8080/"
        },
        "id": "UMNL9qDcmhkU",
        "outputId": "98de6cc4-f0cb-4b2d-d340-9240097896f6"
      },
      "execution_count": 76,
      "outputs": [
        {
          "output_type": "stream",
          "name": "stdout",
          "text": [
            "List of Python keywords:\n",
            "False\n",
            "None\n",
            "True\n",
            "and\n",
            "as\n",
            "assert\n",
            "async\n",
            "await\n",
            "break\n",
            "class\n",
            "continue\n",
            "def\n",
            "del\n",
            "elif\n",
            "else\n",
            "except\n",
            "finally\n",
            "for\n",
            "from\n",
            "global\n",
            "if\n",
            "import\n",
            "in\n",
            "is\n",
            "lambda\n",
            "nonlocal\n",
            "not\n",
            "or\n",
            "pass\n",
            "raise\n",
            "return\n",
            "try\n",
            "while\n",
            "with\n",
            "yield\n"
          ]
        }
      ]
    },
    {
      "cell_type": "code",
      "source": [
        "# Input word from the user\n",
        "word = input(\"Enter a word: \")\n",
        "\n",
        "# Check if the word is a Python keyword\n",
        "if keyword.iskeyword(word):\n",
        "    print(f\"'{word}' is a Python keyword.\")\n",
        "else:\n",
        "    print(f\"'{word}' is not a Python keyword.\")"
      ],
      "metadata": {
        "id": "u3VX30awmnlK"
      },
      "execution_count": null,
      "outputs": []
    },
    {
      "cell_type": "code",
      "source": [
        "a = 7\n",
        "b = 3\n",
        "Both conditions are true (a > 5 and b < 10)\n",
        "At least one condition is true (a > 5 or b < 10)\n",
        "a is not equal to b\n"
      ],
      "metadata": {
        "id": "pAiK2WFLnlTy"
      },
      "execution_count": null,
      "outputs": []
    }
  ]
}